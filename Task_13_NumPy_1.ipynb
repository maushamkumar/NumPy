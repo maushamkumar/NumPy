{
  "nbformat": 4,
  "nbformat_minor": 0,
  "metadata": {
    "colab": {
      "provenance": [],
      "include_colab_link": true
    },
    "kernelspec": {
      "name": "python3",
      "display_name": "Python 3"
    },
    "language_info": {
      "name": "python"
    }
  },
  "cells": [
    {
      "cell_type": "markdown",
      "metadata": {
        "id": "view-in-github",
        "colab_type": "text"
      },
      "source": [
        "<a href=\"https://colab.research.google.com/github/maushamkumar/NumPy/blob/main/Task_13_NumPy_1.ipynb\" target=\"_parent\"><img src=\"https://colab.research.google.com/assets/colab-badge.svg\" alt=\"Open In Colab\"/></a>"
      ]
    },
    {
      "cell_type": "markdown",
      "source": [
        "**Note: In Data Science googling is a very important skill. If you find some difficulties to solve the problem, google it and try to find some clues to solve.**"
      ],
      "metadata": {
        "id": "6WdKdPGx-tnY"
      }
    },
    {
      "cell_type": "code",
      "source": [
        "import numpy as np"
      ],
      "metadata": {
        "id": "-J4F1ysN4mLk"
      },
      "execution_count": 1,
      "outputs": []
    },
    {
      "cell_type": "markdown",
      "source": [
        "###`Q-1` Create a null vector of size 10 but the fifth value which is 1.\n",
        "\n"
      ],
      "metadata": {
        "id": "a_K8IH-C6HDK"
      }
    },
    {
      "cell_type": "code",
      "source": [
        "#Code here\n",
        "arr = np.arange(10)\n",
        "arr[4] = 1\n",
        "arr"
      ],
      "metadata": {
        "id": "sTF03KsZ6QUI",
        "outputId": "9f9de97a-3a82-4ba9-c241-2811c2c6af23",
        "colab": {
          "base_uri": "https://localhost:8080/"
        }
      },
      "execution_count": 2,
      "outputs": [
        {
          "output_type": "execute_result",
          "data": {
            "text/plain": [
              "array([0, 1, 2, 3, 1, 5, 6, 7, 8, 9])"
            ]
          },
          "metadata": {},
          "execution_count": 2
        }
      ]
    },
    {
      "cell_type": "markdown",
      "source": [
        "###`Q-2` Ask user to input two numbers a, b. Write a program to generate a random array of shape (a, b) and print the array and avg of the array."
      ],
      "metadata": {
        "id": "TEiG25rS6S1i"
      }
    },
    {
      "cell_type": "code",
      "source": [
        "#Code here\n",
        "a = int(input(\"Enter the number of rows: \"))\n",
        "b = int(input(\"Enter the number of columns: \"))\n",
        "arr = np.arange(a*b).reshape(a,b)\n",
        "arr"
      ],
      "metadata": {
        "id": "ihwn4oOH6Vh7",
        "outputId": "d002ba78-5e03-47ee-af97-be57dcf3a961",
        "colab": {
          "base_uri": "https://localhost:8080/"
        }
      },
      "execution_count": 3,
      "outputs": [
        {
          "name": "stdout",
          "output_type": "stream",
          "text": [
            "Enter the number of rows: 2\n",
            "Enter the number of columns: 2\n"
          ]
        },
        {
          "output_type": "execute_result",
          "data": {
            "text/plain": [
              "array([[0, 1],\n",
              "       [2, 3]])"
            ]
          },
          "metadata": {},
          "execution_count": 3
        }
      ]
    },
    {
      "cell_type": "markdown",
      "source": [
        "###`Q-3`Write a function to create a 2d array with 1 on the border and 0 inside. Take 2-D array shape as (a,b) as parameter to function.\n",
        "\n",
        "Eg.-\n",
        "```\n",
        "[[1,1,1,1],\n",
        "[1,0,0,1],\n",
        "[1,0,0,1],\n",
        "[1,1,1,1]]\n",
        "```"
      ],
      "metadata": {
        "id": "2iEeybS06ZSq"
      }
    },
    {
      "cell_type": "code",
      "source": [
        "#Code here\n",
        "arr = np.ones((4, 4))\n",
        "arr[1:-1, 1:-1] = 0\n",
        "arr"
      ],
      "metadata": {
        "id": "gEKndkDU6ZSs",
        "outputId": "d42ad76f-022d-4f9e-d355-5967055daf4e",
        "colab": {
          "base_uri": "https://localhost:8080/"
        }
      },
      "execution_count": 6,
      "outputs": [
        {
          "output_type": "execute_result",
          "data": {
            "text/plain": [
              "array([[1., 1., 1., 1.],\n",
              "       [1., 0., 0., 1.],\n",
              "       [1., 0., 0., 1.],\n",
              "       [1., 1., 1., 1.]])"
            ]
          },
          "metadata": {},
          "execution_count": 6
        }
      ]
    },
    {
      "cell_type": "markdown",
      "source": [
        "###`Q-4` Create a vector of size 10 with values ranging from 0 to 1, both excluded.\n"
      ],
      "metadata": {
        "id": "QRJicQ8j6ZlE"
      }
    },
    {
      "cell_type": "code",
      "source": [
        "#Code here\n",
        "arr = np.linspace(0, 1, 11, endpoint=False)[1:]\n",
        "arr"
      ],
      "metadata": {
        "id": "eC4XLhDq6ZlF",
        "outputId": "c4438b47-94a1-4d30-9d5d-653246c1e5cd",
        "colab": {
          "base_uri": "https://localhost:8080/"
        }
      },
      "execution_count": 7,
      "outputs": [
        {
          "output_type": "execute_result",
          "data": {
            "text/plain": [
              "array([0.09090909, 0.18181818, 0.27272727, 0.36363636, 0.45454545,\n",
              "       0.54545455, 0.63636364, 0.72727273, 0.81818182, 0.90909091])"
            ]
          },
          "metadata": {},
          "execution_count": 7
        }
      ]
    },
    {
      "cell_type": "markdown",
      "source": [
        "###`Q-5` Can you create a identity mattrix of shape (3,4). If yes write code for it."
      ],
      "metadata": {
        "id": "vb4jK4yQ6Zs2"
      }
    },
    {
      "cell_type": "code",
      "source": [
        "#Code here\n",
        "arr = np.eye(4, 4)\n",
        "arr"
      ],
      "metadata": {
        "id": "DTV_AbMS6Zs4",
        "outputId": "ceb0d19a-5338-4a65-ce97-ca4f4b493380",
        "colab": {
          "base_uri": "https://localhost:8080/"
        }
      },
      "execution_count": 9,
      "outputs": [
        {
          "output_type": "execute_result",
          "data": {
            "text/plain": [
              "array([[1., 0., 0., 0.],\n",
              "       [0., 1., 0., 0.],\n",
              "       [0., 0., 1., 0.],\n",
              "       [0., 0., 0., 1.]])"
            ]
          },
          "metadata": {},
          "execution_count": 9
        }
      ]
    },
    {
      "cell_type": "markdown",
      "source": [
        "###`Q-6:` Create a 5x5 matrix with row values ranging from 0 to 4."
      ],
      "metadata": {
        "id": "QtjAFm5PEntK"
      }
    },
    {
      "cell_type": "code",
      "source": [
        "#Code here\n",
        "arr = np.zeros((5, 5))\n",
        "arr += np.arange(5)\n",
        "arr"
      ],
      "metadata": {
        "id": "z2WGxRjvEuRS",
        "outputId": "4bef2fe2-8e1b-4dcc-d0ca-2a1caa332525",
        "colab": {
          "base_uri": "https://localhost:8080/"
        }
      },
      "execution_count": 12,
      "outputs": [
        {
          "output_type": "execute_result",
          "data": {
            "text/plain": [
              "array([[0., 1., 2., 3., 4.],\n",
              "       [0., 1., 2., 3., 4.],\n",
              "       [0., 1., 2., 3., 4.],\n",
              "       [0., 1., 2., 3., 4.],\n",
              "       [0., 1., 2., 3., 4.]])"
            ]
          },
          "metadata": {},
          "execution_count": 12
        }
      ]
    },
    {
      "cell_type": "markdown",
      "source": [
        "###`Q-7:`  Consider a random integer (in range 1 to 100) vector with shape `(10,2)` representing coordinates, and coordinates of a point as array is given. Create an array of distance of each point in the random vectros from the given point. Distance array should be interger type.\n",
        "\n",
        "```\n",
        "point = np.array([2,3])\n",
        "```\n"
      ],
      "metadata": {
        "id": "KPpvxKjVHnyx"
      }
    },
    {
      "cell_type": "code",
      "source": [
        "#code here\n",
        "arr = np.random.randint(1, 100, size=(10, 2))\n",
        "point = np.array([2, 3])\n",
        "distance = np.sqrt(np.sum((arr - point) ** 2, axis=1))\n",
        "distance"
      ],
      "metadata": {
        "id": "X7KGnWLNIM6f",
        "outputId": "633dc04a-3906-4031-9e99-22e7bbd9e363",
        "colab": {
          "base_uri": "https://localhost:8080/"
        }
      },
      "execution_count": 13,
      "outputs": [
        {
          "output_type": "execute_result",
          "data": {
            "text/plain": [
              "array([ 49.51767361,  63.28506933,  54.64430437,  86.53323061,\n",
              "        60.92618485,  72.20110802, 103.8701112 ,  63.78087488,\n",
              "        53.74011537,  36.40054945])"
            ]
          },
          "metadata": {},
          "execution_count": 13
        }
      ]
    },
    {
      "cell_type": "markdown",
      "source": [
        "###`Q-8:` Consider a (6,7,8) shape array, what is the index (x,y,z) of the 100th element?"
      ],
      "metadata": {
        "id": "tajOFJlCDwTr"
      }
    },
    {
      "cell_type": "code",
      "source": [
        "#Code here\n",
        "a = np.zeros(shape=(6, 7, 8))\n",
        "np.unravel_index(100, a.shape)"
      ],
      "metadata": {
        "id": "qH4oxvs0D3Ra",
        "outputId": "c4a0771d-74da-465d-fd63-e15a597c67d4",
        "colab": {
          "base_uri": "https://localhost:8080/"
        }
      },
      "execution_count": 15,
      "outputs": [
        {
          "output_type": "execute_result",
          "data": {
            "text/plain": [
              "(1, 5, 4)"
            ]
          },
          "metadata": {},
          "execution_count": 15
        }
      ]
    },
    {
      "cell_type": "markdown",
      "source": [
        "### `Q-9:` Arrays\n",
        "\n",
        "You are given a space separated list of numbers. Your task is to print a reversed NumPy array with the element type float.\n",
        "\n"
      ],
      "metadata": {
        "id": "9LxBAbT2Pw33"
      }
    },
    {
      "cell_type": "markdown",
      "source": [
        "**Input Format:**\n",
        "\n",
        "A single line of input containing space separated numbers.\n",
        "\n",
        "**Output Format:**\n",
        "\n",
        "Print the reverse NumPy array with type float.\n",
        "\n",
        "**Example 1:**\n",
        "\n",
        "Input:\n",
        "\n",
        "```bash\n",
        "1 2 3 4 -8 -10\n",
        "```\n",
        "\n",
        "Output:\n",
        "\n",
        "```bash\n",
        "[-10.  -8.   4.   3.   2.   1.]\n",
        "```"
      ],
      "metadata": {
        "id": "JJpqVms2Nq7L"
      }
    },
    {
      "cell_type": "code",
      "source": [
        "#Code here\n",
        "arr = np.array([1, 2, 3, 4, -8, -10])\n",
        "arr[::-1]\n",
        "\n",
        "arr = input().strip().split()\n",
        "arr = np.array(arr, dtype=float)[::-1]\n",
        "arr"
      ],
      "metadata": {
        "id": "7iQyg6ChNl3j",
        "outputId": "8b31a178-02b6-4f41-cc9d-5d3c57c0d74d",
        "colab": {
          "base_uri": "https://localhost:8080/"
        }
      },
      "execution_count": 17,
      "outputs": [
        {
          "name": "stdout",
          "output_type": "stream",
          "text": [
            "1 2 3 4 -8 -10\n"
          ]
        },
        {
          "output_type": "execute_result",
          "data": {
            "text/plain": [
              "array([-10.,  -8.,   4.,   3.,   2.,   1.])"
            ]
          },
          "metadata": {},
          "execution_count": 17
        }
      ]
    },
    {
      "cell_type": "markdown",
      "source": [
        "### `Q-10:` Elements count\n",
        "\n",
        "Count the number of elements of a numpy array.\n",
        "\n"
      ],
      "metadata": {
        "id": "TPxD7jM8Sjz9"
      }
    },
    {
      "cell_type": "markdown",
      "source": [
        "**Example 1:**\n",
        "\n",
        "Input:\n",
        "```bash\n",
        "np.array([])\n",
        "```\n",
        "\n",
        "Output:\n",
        "```bash\n",
        "elements_count :  0\n",
        "```\n",
        "\n",
        "**Example 2:**\n",
        "\n",
        "Input:\n",
        "```bash\n",
        "np.array([1, 2])\n",
        "```\n",
        "\n",
        "Output:\n",
        "```bash\n",
        "elements_count :  2\n",
        "```"
      ],
      "metadata": {
        "id": "oHTiTz_jNkAU"
      }
    },
    {
      "cell_type": "code",
      "source": [
        "#Code here\n",
        "arr = np.array([])\n",
        "print(\"elements_count : \", arr.size)"
      ],
      "metadata": {
        "id": "RG0H2I-TNeGN",
        "outputId": "b79e6f28-9833-423d-97c1-04b058236764",
        "colab": {
          "base_uri": "https://localhost:8080/"
        }
      },
      "execution_count": 18,
      "outputs": [
        {
          "output_type": "stream",
          "name": "stdout",
          "text": [
            "elements_count :  0\n"
          ]
        }
      ]
    },
    {
      "cell_type": "markdown",
      "source": [
        "### `Q-11:` Softmax function\n",
        "\n",
        "Create a Python function to calculate the Softmax of the given numpy 1D array. The function only accepts the numpy 1D array, otherwise raise error.\n",
        "\n",
        "$$\\Large \\sigma(\\vec z)_i = \\frac{e^{z_i}}{\\sum_{j=i}^{K}{e^{z_j}}}$$\n",
        "\n",
        "https://en.wikipedia.org/wiki/Softmax_function\n",
        "\n"
      ],
      "metadata": {
        "id": "pwgPz-3l5ic5"
      }
    },
    {
      "cell_type": "markdown",
      "source": [
        "**Example 1:**\n",
        "\n",
        "Input:\n",
        "```bash\n",
        "[86.03331084 37.7285648  48.64908087 87.16563062 38.40852563 37.20006318]\n",
        "```\n",
        "\n",
        "Output:\n",
        "```bash\n",
        "[2.43733249e-01, 2.56112115e-22, 1.41628284e-17, 7.56266751e-01,\n",
        "       5.05514197e-22, 1.50974911e-22]\n",
        "```\n",
        "\n",
        "**Example 2:**\n",
        "\n",
        "Input:\n",
        "```bash\n",
        "[33.17344305 45.61961654 82.05405781 80.9647098  68.82830233 91.52064278]\n",
        "```\n",
        "\n",
        "Output:\n",
        "```bash\n",
        "[4.57181035e-26, 1.16249923e-20, 7.73872596e-05, 2.60358426e-05,\n",
        "       1.39571531e-10, 9.99896577e-01]\n",
        "```"
      ],
      "metadata": {
        "id": "eZ3WJt6UM1ul"
      }
    },
    {
      "cell_type": "code",
      "source": [
        "#Code here\n",
        "def softmax(x):\n",
        "    e_x = np.exp(x - np.max(x))\n",
        "    return e_x / e_x.sum()"
      ],
      "metadata": {
        "id": "VNzj05lkNaNi"
      },
      "execution_count": 19,
      "outputs": []
    },
    {
      "cell_type": "markdown",
      "source": [
        "### `Q-12:` Vertical stack\n",
        "\n",
        "Write a python function that accepts infinite number of numpy arrays and do the vertical stack to them. Then return that new array as result. The function only accepts the numpy array, otherwise raise error.\n",
        "\n"
      ],
      "metadata": {
        "id": "k4JWSwWu_HXg"
      }
    },
    {
      "cell_type": "markdown",
      "source": [
        "**Example 1:**\n",
        "\n",
        "Input:\n",
        "```bash\n",
        "a= [[0 1 2 3 4]\n",
        " [5 6 7 8 9]]\n",
        "\n",
        "b= [[1 1 1 1 1]\n",
        " [1 1 1 1 1]]\n",
        "```\n",
        "\n",
        "Output:\n",
        "\n",
        "```bash\n",
        "[[0 1 2 3 4]\n",
        " [5 6 7 8 9]\n",
        " [1 1 1 1 1]\n",
        " [1 1 1 1 1]]\n",
        "```\n",
        "\n",
        "**Example 2:**\n",
        "\n",
        "Input:\n",
        "```bash\n",
        "a= [[0 1 2 3 4]\n",
        " [5 6 7 8 9]]\n",
        "\n",
        "b= [[1 1 1 1 1]\n",
        " [1 1 1 1 1]]\n",
        "\n",
        "c= [[0.10117373 0.1677244  0.73764059 0.83166097 0.48985695]\n",
        " [0.44581567 0.13502419 0.55692335 0.16479622 0.61193593]]\n",
        "```\n",
        "\n",
        "Output:\n",
        "```bash\n",
        "[[0.         1.         2.         3.         4.        ]\n",
        " [5.         6.         7.         8.         9.        ]\n",
        " [1.         1.         1.         1.         1.        ]\n",
        " [1.         1.         1.         1.         1.        ]\n",
        " [0.10117373 0.1677244  0.73764059 0.83166097 0.48985695]\n",
        " [0.44581567 0.13502419 0.55692335 0.16479622 0.61193593]]\n",
        "```"
      ],
      "metadata": {
        "id": "XhhV3mraNAWr"
      }
    },
    {
      "cell_type": "code",
      "source": [
        "#Coder here\n",
        "a = np.array([[0, 1, 2, 3, 4],\n",
        "            [5, 6, 7, 8, 9]])\n",
        "\n",
        "b = np.array([[1, 1, 1, 1, 1],\n",
        " [1, 1, 1, 1, 1]])\n",
        "\n",
        "c= np.array([[0.10117373, 0.1677244,  0.73764059, 0.83166097, 0.48985695],\n",
        " [0.44581567, 0.13502419, 0.55692335, 0.16479622, 0.61193593]])\n",
        "\n",
        "np.vstack((a, b,c))"
      ],
      "metadata": {
        "id": "dhtnbSj6NP8z",
        "outputId": "edb27563-0614-4161-e830-ec31debda76c",
        "colab": {
          "base_uri": "https://localhost:8080/"
        }
      },
      "execution_count": 27,
      "outputs": [
        {
          "output_type": "execute_result",
          "data": {
            "text/plain": [
              "array([[0.        , 1.        , 2.        , 3.        , 4.        ],\n",
              "       [5.        , 6.        , 7.        , 8.        , 9.        ],\n",
              "       [1.        , 1.        , 1.        , 1.        , 1.        ],\n",
              "       [1.        , 1.        , 1.        , 1.        , 1.        ],\n",
              "       [0.10117373, 0.1677244 , 0.73764059, 0.83166097, 0.48985695],\n",
              "       [0.44581567, 0.13502419, 0.55692335, 0.16479622, 0.61193593]])"
            ]
          },
          "metadata": {},
          "execution_count": 27
        }
      ]
    },
    {
      "cell_type": "markdown",
      "source": [
        "### `Q-13:` Dates\n",
        "\n",
        "Create a python function named **date_array** that accepts two dates as string format and returns a numpy array of dates between those 2 dates. The function only accept 2 strings, otherwise raise error. The date format should be like this only: `2022-12-6`. The end date should be included and for simplicity, choose dates from a same year.\n",
        "\n"
      ],
      "metadata": {
        "id": "3mk8T6CuC2DP"
      }
    },
    {
      "cell_type": "markdown",
      "source": [
        "**Example 1:**\n",
        "\n",
        "Input:\n",
        "```bash\n",
        "date_array(start = '2020-09-15', end = '2020-09-25')\n",
        "```\n",
        "\n",
        "Output:\n",
        "```bash\n",
        "['2020-09-15', '2020-09-16', '2020-09-17', '2020-09-18',\n",
        " '2020-09-19', '2020-09-20', '2020-09-21', '2020-09-22',\n",
        " '2020-09-23', '2020-09-24', '2020-09-25']\n",
        "```\n",
        "\n",
        "**Example 2:**\n",
        "\n",
        "Input:\n",
        "```bash\n",
        "date_array(start = '2022-12-01', end = '2022-12-06')\n",
        "```\n",
        "\n",
        "Output:\n",
        "```bash\n",
        "['2022-12-01', '2022-12-02', '2022-12-03', '2022-12-04', '2022-12-05', '2022-12-06']\n",
        "```\n",
        "\n",
        "**Example 3:**\n",
        "\n",
        "Input:\n",
        "```bash\n",
        "date_array(start = '2020-11-25', end = '2020-11-30')\n",
        "```\n",
        "\n",
        "Output:\n",
        "```bash\n",
        "['2020-11-25', '2020-11-26', '2020-11-27', '2020-11-28',\n",
        " '2020-11-29', '2020-11-30']\n",
        "```"
      ],
      "metadata": {
        "id": "E3IgjnTTNFEk"
      }
    },
    {
      "cell_type": "code",
      "source": [
        "#Code here\n",
        "import numpy as np\n",
        "import datetime\n",
        "\n",
        "def date_array(start_date, end_date):\n",
        "    # Check if the inputs are exactly two strings\n",
        "    if not (isinstance(start_date, str) and isinstance(end_date, str)):\n",
        "        raise ValueError(\"Both start_date and end_date must be strings\")\n",
        "\n",
        "    # Convert strings to date objects\n",
        "    try:\n",
        "        start_date_obj = datetime.datetime.strptime(start_date, '%Y-%m-%d').date()\n",
        "        end_date_obj = datetime.datetime.strptime(end_date, '%Y-%m-%d').date()\n",
        "    except ValueError:\n",
        "        raise ValueError(\"Date format should be YYYY-MM-DD\")\n",
        "\n",
        "    # Ensure dates are within the same year\n",
        "    if start_date_obj.year != end_date_obj.year:\n",
        "        raise ValueError(\"Dates must be within the same year\")\n",
        "\n",
        "    # Generate date range\n",
        "    num_days = (end_date_obj - start_date_obj).days + 1\n",
        "    date_range = [start_date_obj + datetime.timedelta(days=i) for i in range(num_days)]\n",
        "\n",
        "    # Convert to numpy array\n",
        "    date_array = np.array(date_range, dtype='datetime64[D]')\n",
        "\n",
        "    return date_array\n",
        "\n",
        "# Example usage\n",
        "start = '2022-12-06'\n",
        "end = '2022-12-10'\n",
        "print(date_array(start, end))\n"
      ],
      "metadata": {
        "id": "Yj5PBfQQNTnL",
        "outputId": "3dd6174a-3ab3-4aba-e148-56a37512069d",
        "colab": {
          "base_uri": "https://localhost:8080/"
        }
      },
      "execution_count": 28,
      "outputs": [
        {
          "output_type": "stream",
          "name": "stdout",
          "text": [
            "['2022-12-06' '2022-12-07' '2022-12-08' '2022-12-09' '2022-12-10']\n"
          ]
        }
      ]
    },
    {
      "cell_type": "markdown",
      "source": [
        "###`Q-14:` Subtract the mean of each row from a matrix."
      ],
      "metadata": {
        "id": "bcEp0wTWQijK"
      }
    },
    {
      "cell_type": "code",
      "source": [
        "#code here\n",
        "arr = np.random.randint(1, 100, size=(4, 4))\n",
        "a = arr.mean()\n",
        "print(arr )\n",
        "print(a)\n",
        "arr - a"
      ],
      "metadata": {
        "id": "rpILVGcgQzMo",
        "outputId": "4bf506b9-adb2-4ed1-aedd-73ad796a164b",
        "colab": {
          "base_uri": "https://localhost:8080/"
        }
      },
      "execution_count": 31,
      "outputs": [
        {
          "output_type": "stream",
          "name": "stdout",
          "text": [
            "[[18  8 26 71]\n",
            " [16 64 15 57]\n",
            " [28 76  2 56]\n",
            " [60 31 87 56]]\n",
            "41.9375\n"
          ]
        },
        {
          "output_type": "execute_result",
          "data": {
            "text/plain": [
              "array([[-23.9375, -33.9375, -15.9375,  29.0625],\n",
              "       [-25.9375,  22.0625, -26.9375,  15.0625],\n",
              "       [-13.9375,  34.0625, -39.9375,  14.0625],\n",
              "       [ 18.0625, -10.9375,  45.0625,  14.0625]])"
            ]
          },
          "metadata": {},
          "execution_count": 31
        }
      ]
    },
    {
      "cell_type": "markdown",
      "source": [
        "###`Q-15:` Swap column-1 of array with column-2 in the array."
      ],
      "metadata": {
        "id": "A-dMVlPPSBTT"
      }
    },
    {
      "cell_type": "code",
      "source": [
        "#Code here"
      ],
      "metadata": {
        "id": "3RtngM9-Q6S7"
      },
      "execution_count": null,
      "outputs": []
    },
    {
      "cell_type": "code",
      "source": [
        "array = np.array([\n",
        "    [1, 2, 3, 4],\n",
        "    [5, 6, 7, 8],\n",
        "    [9, 10, 11, 12],\n",
        "    [13, 14, 15, 16]\n",
        "])\n",
        "\n",
        "array[:, [0, 1]] = array[:, [1, 0]]\n",
        "array"
      ],
      "metadata": {
        "id": "ueoMV_LlSnGU",
        "outputId": "d5fde40c-2a86-4839-bb2a-9054d0bd5ccf",
        "colab": {
          "base_uri": "https://localhost:8080/"
        }
      },
      "execution_count": 39,
      "outputs": [
        {
          "output_type": "execute_result",
          "data": {
            "text/plain": [
              "array([[ 2,  1,  3,  4],\n",
              "       [ 6,  5,  7,  8],\n",
              "       [10,  9, 11, 12],\n",
              "       [14, 13, 15, 16]])"
            ]
          },
          "metadata": {},
          "execution_count": 39
        }
      ]
    },
    {
      "cell_type": "markdown",
      "source": [
        "###`Q-16:` Replace odd elements in arrays with -1."
      ],
      "metadata": {
        "id": "cB4VMexvS6Zi"
      }
    },
    {
      "cell_type": "code",
      "source": [
        "#Code here"
      ],
      "metadata": {
        "id": "Bt83nXEVS5O4"
      },
      "execution_count": null,
      "outputs": []
    },
    {
      "cell_type": "code",
      "source": [
        "arr = np.arange(10).reshape(2, 5)\n",
        "arr[arr % 2 == 1] = -1\n",
        "arr"
      ],
      "metadata": {
        "id": "1ZlvMaXLVyoW",
        "outputId": "07e27899-1ccc-48f7-aec8-58a03b168507",
        "colab": {
          "base_uri": "https://localhost:8080/"
        }
      },
      "execution_count": 40,
      "outputs": [
        {
          "output_type": "execute_result",
          "data": {
            "text/plain": [
              "array([[ 0, -1,  2, -1,  4],\n",
              "       [-1,  6, -1,  8, -1]])"
            ]
          },
          "metadata": {},
          "execution_count": 40
        }
      ]
    },
    {
      "cell_type": "markdown",
      "source": [
        "###`Q-17:` Given two arrays of same shape make an array of max out of two arrays. (Numpy way)\n",
        "```\n",
        "a=np.array([6,3,1,5,8])\n",
        "b=np.array([3,2,1,7,2])\n",
        "\n",
        "Result-> [6 3 1 7 8]\n",
        "```"
      ],
      "metadata": {
        "id": "kf_qvmBxWIT_"
      }
    },
    {
      "cell_type": "code",
      "source": [
        "#Code here"
      ],
      "metadata": {
        "id": "TB9ZvF-EZSfu"
      },
      "execution_count": null,
      "outputs": []
    },
    {
      "cell_type": "code",
      "source": [
        "a=np.array([6,3,1,5,8])\n",
        "b=np.array([3,2,1,7,2])\n",
        "np.maximum(a, b)"
      ],
      "metadata": {
        "id": "D7ad-A6jZzCL",
        "outputId": "7c93c2b6-1031-4be1-abfc-3f82be8cee1f",
        "colab": {
          "base_uri": "https://localhost:8080/"
        }
      },
      "execution_count": 41,
      "outputs": [
        {
          "output_type": "execute_result",
          "data": {
            "text/plain": [
              "array([6, 3, 1, 7, 8])"
            ]
          },
          "metadata": {},
          "execution_count": 41
        }
      ]
    },
    {
      "cell_type": "markdown",
      "source": [
        "###`Q-18` Answer below asked questions on given array:\n",
        "1. Fetch Every alternate column of the array\n",
        "2. Normalise the given array\n",
        "\n",
        "https://en.wikipedia.org/wiki/Normalization_(statistics)\n",
        "\n",
        "There are different form of normalisation for this question use below formula.\n",
        "\n",
        "$$\\large X_{normalized} = \\frac{X - X_{min}}{X_{max} - X_{min}}$$\n",
        "\n",
        "```python\n",
        "arr1=np.random.randint(low=1, high=10000, size=40).reshape(8,5)\n",
        "```\n"
      ],
      "metadata": {
        "id": "iOQLUIeGc3zA"
      }
    },
    {
      "cell_type": "code",
      "source": [
        "# Given\n",
        "arr1=np.random.randint(low=1, high=10000, size=40).reshape(8,5)\n",
        "arr1"
      ],
      "metadata": {
        "colab": {
          "base_uri": "https://localhost:8080/"
        },
        "id": "vjSm18k3d_1p",
        "outputId": "63c71fa5-f322-4f4f-9883-7041865b4dab"
      },
      "execution_count": 51,
      "outputs": [
        {
          "output_type": "execute_result",
          "data": {
            "text/plain": [
              "array([[3163, 8338, 9757, 2427, 1703],\n",
              "       [3508, 2844, 7205, 7986, 9567],\n",
              "       [9208, 2065, 1699,  237, 1081],\n",
              "       [ 260, 6107, 2753, 6806, 7962],\n",
              "       [5017, 8575, 8091, 5324, 7165],\n",
              "       [7662, 8290,  316, 1396, 8669],\n",
              "       [9685, 9996,  122, 9801, 7223],\n",
              "       [ 834, 3508, 9010,  506, 1375]])"
            ]
          },
          "metadata": {},
          "execution_count": 51
        }
      ]
    },
    {
      "cell_type": "code",
      "source": [
        "#Code here\n",
        "x = (arr1 - arr1.min())/ (arr1.max() - arr1.min())\n",
        "x"
      ],
      "metadata": {
        "id": "d7u8DB47eBfQ",
        "outputId": "fff2988a-beba-45a7-fb09-ec0679c1e464",
        "colab": {
          "base_uri": "https://localhost:8080/"
        }
      },
      "execution_count": 53,
      "outputs": [
        {
          "output_type": "execute_result",
          "data": {
            "text/plain": [
              "array([[0.30798055, 0.83208426, 0.97579502, 0.23344136, 0.16011748],\n",
              "       [0.3429208 , 0.27567349, 0.71733846, 0.79643508, 0.95655256],\n",
              "       [0.92019445, 0.19677942, 0.15971238, 0.01164675, 0.09712376],\n",
              "       [0.0139761 , 0.60613733, 0.26645736, 0.67692931, 0.79400446],\n",
              "       [0.4957464 , 0.85608669, 0.80706907, 0.52683816, 0.71328742],\n",
              "       [0.76362163, 0.82722301, 0.01964756, 0.12902572, 0.86560664],\n",
              "       [0.96850314, 1.        , 0.        , 0.98025116, 0.71916143],\n",
              "       [0.07210857, 0.3429208 , 0.90014179, 0.03889001, 0.12689893]])"
            ]
          },
          "metadata": {},
          "execution_count": 53
        }
      ]
    },
    {
      "cell_type": "markdown",
      "source": [
        "###`Q-19:` Write a function which will accept 2 arguments.\n",
        "First: A 1D numpy array arr\n",
        "\n",
        "Second: An integer n {Please make sure n<=len(arr)}\n",
        "\n",
        "Output: The output should be the nth largest item out of the array\n",
        "```\n",
        "# Example1 : arr=(12,34,40,7,1,0) and n=3, the output should be 12\n",
        "# Example2 : arr=(12,34,40,7,1,0) and n=1, the output should be 40\n",
        "```"
      ],
      "metadata": {
        "id": "jCzsVEKLgGNo"
      }
    },
    {
      "cell_type": "code",
      "source": [
        "#Code here\n",
        "def nth_largest(arr, n):\n",
        "    sorted_arr = np.sort(arr)\n",
        "    return sorted_arr[-n]"
      ],
      "metadata": {
        "id": "J4AzkDk7gXSG"
      },
      "execution_count": null,
      "outputs": []
    },
    {
      "cell_type": "markdown",
      "source": [
        "###`Q-20:` Create the following pattern without hardcoding. Use only numpy functions and the below input array a.\n",
        "```\n",
        "# Input: a = np.array([1,2,3])\n",
        "# Output: array([1, 1, 1, 2, 2, 2, 3, 3, 3, 1, 2, 3, 1, 2, 3, 1, 2, 3])\n",
        "```"
      ],
      "metadata": {
        "id": "ja0xPCgjhBsg"
      }
    },
    {
      "cell_type": "code",
      "source": [
        "#code here\n",
        "a = np.array([1,2,3])\n",
        "repeat = np.repeat(a, 3)\n",
        "tiled = np.tile(a, 3)\n",
        "np.concatenate((repeat, tiled))"
      ],
      "metadata": {
        "id": "CndS8TTNhG0F",
        "outputId": "1fcbff95-8279-4b8e-8f39-3e02e980b3a5",
        "colab": {
          "base_uri": "https://localhost:8080/"
        }
      },
      "execution_count": 56,
      "outputs": [
        {
          "output_type": "execute_result",
          "data": {
            "text/plain": [
              "array([1, 1, 1, 2, 2, 2, 3, 3, 3, 1, 2, 3, 1, 2, 3, 1, 2, 3])"
            ]
          },
          "metadata": {},
          "execution_count": 56
        }
      ]
    },
    {
      "cell_type": "code",
      "source": [],
      "metadata": {
        "id": "c1VnLG8QcX79"
      },
      "execution_count": null,
      "outputs": []
    }
  ]
}