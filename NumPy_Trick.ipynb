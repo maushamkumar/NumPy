{
  "nbformat": 4,
  "nbformat_minor": 0,
  "metadata": {
    "colab": {
      "provenance": [],
      "authorship_tag": "ABX9TyPYEkjSKM/ju9elpIBfGq6J",
      "include_colab_link": true
    },
    "kernelspec": {
      "name": "python3",
      "display_name": "Python 3"
    },
    "language_info": {
      "name": "python"
    }
  },
  "cells": [
    {
      "cell_type": "markdown",
      "metadata": {
        "id": "view-in-github",
        "colab_type": "text"
      },
      "source": [
        "<a href=\"https://colab.research.google.com/github/maushamkumar/NumPy/blob/main/NumPy_Trick.ipynb\" target=\"_parent\"><img src=\"https://colab.research.google.com/assets/colab-badge.svg\" alt=\"Open In Colab\"/></a>"
      ]
    },
    {
      "cell_type": "markdown",
      "source": [
        "# np.sort\n",
        "Return a sorted copy of an array"
      ],
      "metadata": {
        "id": "5DJqE0Lo59r4"
      }
    },
    {
      "cell_type": "code",
      "execution_count": 1,
      "metadata": {
        "colab": {
          "base_uri": "https://localhost:8080/"
        },
        "id": "-ySMAIr_5MfT",
        "outputId": "73c5ee6e-faae-45e0-a621-a89e9f57b3d9"
      },
      "outputs": [
        {
          "output_type": "execute_result",
          "data": {
            "text/plain": [
              "array([94, 30, 82, 75, 14, 83, 51, 17, 12, 66, 26, 69, 94, 48, 73])"
            ]
          },
          "metadata": {},
          "execution_count": 1
        }
      ],
      "source": [
        "# Code\n",
        "import numpy as np\n",
        "a = np.random.randint(1, 100, 15)\n",
        "a"
      ]
    },
    {
      "cell_type": "code",
      "source": [
        "np.sort(a)"
      ],
      "metadata": {
        "colab": {
          "base_uri": "https://localhost:8080/"
        },
        "id": "Go7EUwJA6KhG",
        "outputId": "b7af2df1-c89b-4914-8b5f-50ca269653cb"
      },
      "execution_count": 2,
      "outputs": [
        {
          "output_type": "execute_result",
          "data": {
            "text/plain": [
              "array([12, 14, 17, 26, 30, 48, 51, 66, 69, 73, 75, 82, 83, 94, 94])"
            ]
          },
          "metadata": {},
          "execution_count": 2
        }
      ]
    },
    {
      "cell_type": "code",
      "source": [
        "b = np.random.randint(1, 100, 24).reshape(6, 4)\n",
        "b"
      ],
      "metadata": {
        "colab": {
          "base_uri": "https://localhost:8080/"
        },
        "id": "irxA6yjZ6M2m",
        "outputId": "7c309ac3-fae3-4607-9cc7-a6cb26705214"
      },
      "execution_count": 3,
      "outputs": [
        {
          "output_type": "execute_result",
          "data": {
            "text/plain": [
              "array([[68, 73, 95, 89],\n",
              "       [ 1, 91, 87, 49],\n",
              "       [18, 16, 11, 11],\n",
              "       [98, 21, 15, 14],\n",
              "       [96,  8, 50,  3],\n",
              "       [17, 21, 66, 90]])"
            ]
          },
          "metadata": {},
          "execution_count": 3
        }
      ]
    },
    {
      "cell_type": "code",
      "source": [
        "np.sort(b, axis=0)"
      ],
      "metadata": {
        "colab": {
          "base_uri": "https://localhost:8080/"
        },
        "id": "ujqGoH9f6UZK",
        "outputId": "eef9f697-efa4-4fa7-bd4f-3d4b9ebb0df9"
      },
      "execution_count": 5,
      "outputs": [
        {
          "output_type": "execute_result",
          "data": {
            "text/plain": [
              "array([[ 1,  8, 11,  3],\n",
              "       [17, 16, 15, 11],\n",
              "       [18, 21, 50, 14],\n",
              "       [68, 21, 66, 49],\n",
              "       [96, 73, 87, 89],\n",
              "       [98, 91, 95, 90]])"
            ]
          },
          "metadata": {},
          "execution_count": 5
        }
      ]
    },
    {
      "cell_type": "code",
      "source": [
        "np.sort(a)[::-1]"
      ],
      "metadata": {
        "colab": {
          "base_uri": "https://localhost:8080/"
        },
        "id": "9s0_ngxp6YQ1",
        "outputId": "57bdb864-76d8-4578-c75c-dd1cf4f800a9"
      },
      "execution_count": 6,
      "outputs": [
        {
          "output_type": "execute_result",
          "data": {
            "text/plain": [
              "array([94, 94, 83, 82, 75, 73, 69, 66, 51, 48, 30, 26, 17, 14, 12])"
            ]
          },
          "metadata": {},
          "execution_count": 6
        }
      ]
    },
    {
      "cell_type": "markdown",
      "source": [
        "# np.append\n",
        "The numpy.append() appends values along the mentioned axis at the end of the array."
      ],
      "metadata": {
        "id": "SVSpJxt761aM"
      }
    },
    {
      "cell_type": "code",
      "source": [
        "# code\n",
        "# This append function is similar to Python append function\n",
        "a\n",
        "np.append(a, 100)"
      ],
      "metadata": {
        "colab": {
          "base_uri": "https://localhost:8080/"
        },
        "id": "1-RVMcmF6y4_",
        "outputId": "7a548b83-055f-46fe-b73b-b68da06ab385"
      },
      "execution_count": 8,
      "outputs": [
        {
          "output_type": "execute_result",
          "data": {
            "text/plain": [
              "array([ 94,  30,  82,  75,  14,  83,  51,  17,  12,  66,  26,  69,  94,\n",
              "        48,  73, 100])"
            ]
          },
          "metadata": {},
          "execution_count": 8
        }
      ]
    },
    {
      "cell_type": "code",
      "source": [
        "b"
      ],
      "metadata": {
        "colab": {
          "base_uri": "https://localhost:8080/"
        },
        "id": "4Mr6SPcB7Iz1",
        "outputId": "e630f698-baf4-49dd-e45c-c3ef7258197e"
      },
      "execution_count": 9,
      "outputs": [
        {
          "output_type": "execute_result",
          "data": {
            "text/plain": [
              "array([[68, 73, 95, 89],\n",
              "       [ 1, 91, 87, 49],\n",
              "       [18, 16, 11, 11],\n",
              "       [98, 21, 15, 14],\n",
              "       [96,  8, 50,  3],\n",
              "       [17, 21, 66, 90]])"
            ]
          },
          "metadata": {},
          "execution_count": 9
        }
      ]
    },
    {
      "cell_type": "code",
      "source": [
        "np.append(b, np.ones((b.shape[0], 1)),axis=1)"
      ],
      "metadata": {
        "colab": {
          "base_uri": "https://localhost:8080/"
        },
        "id": "_z4FliVU7Mc9",
        "outputId": "0bb04d01-c886-4a92-9ac4-27a656d78f67"
      },
      "execution_count": 12,
      "outputs": [
        {
          "output_type": "execute_result",
          "data": {
            "text/plain": [
              "array([[68., 73., 95., 89.,  1.],\n",
              "       [ 1., 91., 87., 49.,  1.],\n",
              "       [18., 16., 11., 11.,  1.],\n",
              "       [98., 21., 15., 14.,  1.],\n",
              "       [96.,  8., 50.,  3.,  1.],\n",
              "       [17., 21., 66., 90.,  1.]])"
            ]
          },
          "metadata": {},
          "execution_count": 12
        }
      ]
    },
    {
      "cell_type": "markdown",
      "source": [
        "# np.concatenate\n",
        "numpy.concatenate() fucntion concatenate a sequence of arrays along an existing axis."
      ],
      "metadata": {
        "id": "IJeOloKe7hkQ"
      }
    },
    {
      "cell_type": "code",
      "source": [
        "# code\n",
        "# Generally we use np.concatenate with tabular data to concatenate data\n",
        "c = np.arange(6).reshape(2, 3)\n",
        "d = np.arange(6, 12).reshape(2, 3)\n",
        "\n",
        "print(c)\n",
        "print(d)"
      ],
      "metadata": {
        "colab": {
          "base_uri": "https://localhost:8080/"
        },
        "id": "bVsZhoiS7YHe",
        "outputId": "c0981f55-3604-42a6-941d-2f69a3f740f1"
      },
      "execution_count": 13,
      "outputs": [
        {
          "output_type": "stream",
          "name": "stdout",
          "text": [
            "[[0 1 2]\n",
            " [3 4 5]]\n",
            "[[ 6  7  8]\n",
            " [ 9 10 11]]\n"
          ]
        }
      ]
    },
    {
      "cell_type": "code",
      "source": [
        "# Row base\n",
        "np.concatenate((c, d), axis=0)"
      ],
      "metadata": {
        "colab": {
          "base_uri": "https://localhost:8080/"
        },
        "id": "TppeTQ_P7-2r",
        "outputId": "079dc52a-451b-46f8-b281-3b7bdf4c4fba"
      },
      "execution_count": 14,
      "outputs": [
        {
          "output_type": "execute_result",
          "data": {
            "text/plain": [
              "array([[ 0,  1,  2],\n",
              "       [ 3,  4,  5],\n",
              "       [ 6,  7,  8],\n",
              "       [ 9, 10, 11]])"
            ]
          },
          "metadata": {},
          "execution_count": 14
        }
      ]
    },
    {
      "cell_type": "code",
      "source": [
        "# Coloumn wise concatenation\n",
        "np.concatenate((c, d), axis=1)"
      ],
      "metadata": {
        "colab": {
          "base_uri": "https://localhost:8080/"
        },
        "id": "qeZYJ_ct8HlR",
        "outputId": "7569c5a4-6db1-424b-ea0a-6c17f0ed32e0"
      },
      "execution_count": 15,
      "outputs": [
        {
          "output_type": "execute_result",
          "data": {
            "text/plain": [
              "array([[ 0,  1,  2,  6,  7,  8],\n",
              "       [ 3,  4,  5,  9, 10, 11]])"
            ]
          },
          "metadata": {},
          "execution_count": 15
        }
      ]
    },
    {
      "cell_type": "markdown",
      "source": [
        "# np.unique\n",
        "with the help of np.unique() method, we can get the unique values from an array given as a parameter in np.unique() method."
      ],
      "metadata": {
        "id": "k-G1PFik8TXl"
      }
    },
    {
      "cell_type": "code",
      "source": [
        "# code\n",
        "e = np.array([1,1,2,2,3,3,4,4,5,5,6,6])\n",
        "np.unique(e)"
      ],
      "metadata": {
        "colab": {
          "base_uri": "https://localhost:8080/"
        },
        "id": "LS5Plxtm8Nf9",
        "outputId": "9bb003ab-b1e7-4b59-fa77-35be2685202e"
      },
      "execution_count": 16,
      "outputs": [
        {
          "output_type": "execute_result",
          "data": {
            "text/plain": [
              "array([1, 2, 3, 4, 5, 6])"
            ]
          },
          "metadata": {},
          "execution_count": 16
        }
      ]
    },
    {
      "cell_type": "markdown",
      "source": [
        "# np.expand_dims\n",
        "with the help of numpy.expand_dims, we can get the expanded dimensions of an array"
      ],
      "metadata": {
        "id": "BYa8FFcr85Gy"
      }
    },
    {
      "cell_type": "code",
      "source": [
        "# code\n",
        "a"
      ],
      "metadata": {
        "colab": {
          "base_uri": "https://localhost:8080/"
        },
        "id": "6lIUgVGZ8tsD",
        "outputId": "db06e3e5-0565-408d-cbd6-629e472c3146"
      },
      "execution_count": 17,
      "outputs": [
        {
          "output_type": "execute_result",
          "data": {
            "text/plain": [
              "array([94, 30, 82, 75, 14, 83, 51, 17, 12, 66, 26, 69, 94, 48, 73])"
            ]
          },
          "metadata": {},
          "execution_count": 17
        }
      ]
    },
    {
      "cell_type": "code",
      "source": [
        "np.expand_dims(a, axis=0)"
      ],
      "metadata": {
        "colab": {
          "base_uri": "https://localhost:8080/"
        },
        "id": "yCv3GcBq9Ho2",
        "outputId": "42dfd374-8d8a-4d06-ef79-79036c2937d9"
      },
      "execution_count": 18,
      "outputs": [
        {
          "output_type": "execute_result",
          "data": {
            "text/plain": [
              "array([[94, 30, 82, 75, 14, 83, 51, 17, 12, 66, 26, 69, 94, 48, 73]])"
            ]
          },
          "metadata": {},
          "execution_count": 18
        }
      ]
    },
    {
      "cell_type": "code",
      "source": [
        "np.expand_dims(a, axis=1)"
      ],
      "metadata": {
        "colab": {
          "base_uri": "https://localhost:8080/"
        },
        "id": "LltdgEds9Mpr",
        "outputId": "7f759dc7-4361-453a-9938-0360cac355d4"
      },
      "execution_count": 19,
      "outputs": [
        {
          "output_type": "execute_result",
          "data": {
            "text/plain": [
              "array([[94],\n",
              "       [30],\n",
              "       [82],\n",
              "       [75],\n",
              "       [14],\n",
              "       [83],\n",
              "       [51],\n",
              "       [17],\n",
              "       [12],\n",
              "       [66],\n",
              "       [26],\n",
              "       [69],\n",
              "       [94],\n",
              "       [48],\n",
              "       [73]])"
            ]
          },
          "metadata": {},
          "execution_count": 19
        }
      ]
    },
    {
      "cell_type": "markdown",
      "source": [
        "# np.where\n",
        "The numpy.where() function returns the indices of elements in an input array where the given condition is satisfied."
      ],
      "metadata": {
        "id": "aGCWreKs9289"
      }
    },
    {
      "cell_type": "code",
      "source": [
        "a"
      ],
      "metadata": {
        "colab": {
          "base_uri": "https://localhost:8080/"
        },
        "id": "SoMLxo989QEh",
        "outputId": "837571c8-15ef-4874-de40-8fbada3c4159"
      },
      "execution_count": 20,
      "outputs": [
        {
          "output_type": "execute_result",
          "data": {
            "text/plain": [
              "array([94, 30, 82, 75, 14, 83, 51, 17, 12, 66, 26, 69, 94, 48, 73])"
            ]
          },
          "metadata": {},
          "execution_count": 20
        }
      ]
    },
    {
      "cell_type": "code",
      "source": [
        "# Find all the indices with value greater than 50\n",
        "np.where(a>50)"
      ],
      "metadata": {
        "colab": {
          "base_uri": "https://localhost:8080/"
        },
        "id": "aQjipE-i-EfP",
        "outputId": "01c619cf-0013-47d8-8ad8-7a3d04eacad2"
      },
      "execution_count": 21,
      "outputs": [
        {
          "output_type": "execute_result",
          "data": {
            "text/plain": [
              "(array([ 0,  2,  3,  5,  6,  9, 11, 12, 14]),)"
            ]
          },
          "metadata": {},
          "execution_count": 21
        }
      ]
    },
    {
      "cell_type": "code",
      "source": [
        "# replace all value > 50 with 0\n",
        "# np.where(condition, true, false)\n",
        "np.where(a>50, 0, a)"
      ],
      "metadata": {
        "colab": {
          "base_uri": "https://localhost:8080/"
        },
        "id": "IVO1PB-U-LZJ",
        "outputId": "dc435316-5120-4763-b770-1e263fcdfb5b"
      },
      "execution_count": 22,
      "outputs": [
        {
          "output_type": "execute_result",
          "data": {
            "text/plain": [
              "array([ 0, 30,  0,  0, 14,  0,  0, 17, 12,  0, 26,  0,  0, 48,  0])"
            ]
          },
          "metadata": {},
          "execution_count": 22
        }
      ]
    },
    {
      "cell_type": "markdown",
      "source": [
        "# np.argmax\n",
        "The numpy.argmax() function returns the indices of the max element of the array in a particular axis."
      ],
      "metadata": {
        "id": "jdc-cOCm-iC_"
      }
    },
    {
      "cell_type": "code",
      "source": [
        "# code\n",
        "a"
      ],
      "metadata": {
        "colab": {
          "base_uri": "https://localhost:8080/"
        },
        "id": "5E1-MJ_J-c-r",
        "outputId": "50fc7305-476e-4199-a319-570738dd30a2"
      },
      "execution_count": 23,
      "outputs": [
        {
          "output_type": "execute_result",
          "data": {
            "text/plain": [
              "array([94, 30, 82, 75, 14, 83, 51, 17, 12, 66, 26, 69, 94, 48, 73])"
            ]
          },
          "metadata": {},
          "execution_count": 23
        }
      ]
    },
    {
      "cell_type": "code",
      "source": [
        "np.argmax(a)"
      ],
      "metadata": {
        "colab": {
          "base_uri": "https://localhost:8080/"
        },
        "id": "NpCDl1zm-zk2",
        "outputId": "faa5a109-3ae7-41ff-c1c9-1cffd687bc57"
      },
      "execution_count": 24,
      "outputs": [
        {
          "output_type": "execute_result",
          "data": {
            "text/plain": [
              "0"
            ]
          },
          "metadata": {},
          "execution_count": 24
        }
      ]
    },
    {
      "cell_type": "code",
      "source": [
        "b"
      ],
      "metadata": {
        "colab": {
          "base_uri": "https://localhost:8080/"
        },
        "id": "jIoOczlF-1Hg",
        "outputId": "41ee208f-386d-43a1-c5a5-bc8325f16f00"
      },
      "execution_count": 25,
      "outputs": [
        {
          "output_type": "execute_result",
          "data": {
            "text/plain": [
              "array([[68, 73, 95, 89],\n",
              "       [ 1, 91, 87, 49],\n",
              "       [18, 16, 11, 11],\n",
              "       [98, 21, 15, 14],\n",
              "       [96,  8, 50,  3],\n",
              "       [17, 21, 66, 90]])"
            ]
          },
          "metadata": {},
          "execution_count": 25
        }
      ]
    },
    {
      "cell_type": "code",
      "source": [
        "np.argmax(b, axis=0)"
      ],
      "metadata": {
        "colab": {
          "base_uri": "https://localhost:8080/"
        },
        "id": "ONy9SVPc-9uZ",
        "outputId": "ea4e3430-ac54-42fd-8f20-95a1eaf9f8cb"
      },
      "execution_count": 27,
      "outputs": [
        {
          "output_type": "execute_result",
          "data": {
            "text/plain": [
              "array([3, 1, 0, 5])"
            ]
          },
          "metadata": {},
          "execution_count": 27
        }
      ]
    },
    {
      "cell_type": "code",
      "source": [
        "np.argmax(b, axis=1)"
      ],
      "metadata": {
        "colab": {
          "base_uri": "https://localhost:8080/"
        },
        "id": "c0TL3CNL--_u",
        "outputId": "0b66b413-9f56-44e3-b6ab-28af933cc8bc"
      },
      "execution_count": 28,
      "outputs": [
        {
          "output_type": "execute_result",
          "data": {
            "text/plain": [
              "array([2, 1, 0, 0, 0, 3])"
            ]
          },
          "metadata": {},
          "execution_count": 28
        }
      ]
    },
    {
      "cell_type": "code",
      "source": [
        "# np.agrmin\n",
        "np.argmin(a)"
      ],
      "metadata": {
        "colab": {
          "base_uri": "https://localhost:8080/"
        },
        "id": "p_LOEnmk_Jbt",
        "outputId": "8fd56dd9-56fc-4a63-fe9a-d268694caa46"
      },
      "execution_count": 29,
      "outputs": [
        {
          "output_type": "execute_result",
          "data": {
            "text/plain": [
              "8"
            ]
          },
          "metadata": {},
          "execution_count": 29
        }
      ]
    },
    {
      "cell_type": "markdown",
      "source": [
        "# np.cumsum\n",
        "numpy.cumsum() function is used when we want to compute the cumulative sum of array elements over a given axis."
      ],
      "metadata": {
        "id": "-eaTm7BB_qRs"
      }
    },
    {
      "cell_type": "code",
      "source": [
        "a"
      ],
      "metadata": {
        "colab": {
          "base_uri": "https://localhost:8080/"
        },
        "id": "HWMXZ8b6_bH9",
        "outputId": "8b104d0f-5f02-423c-f985-57a57fe48f03"
      },
      "execution_count": 30,
      "outputs": [
        {
          "output_type": "execute_result",
          "data": {
            "text/plain": [
              "array([94, 30, 82, 75, 14, 83, 51, 17, 12, 66, 26, 69, 94, 48, 73])"
            ]
          },
          "metadata": {},
          "execution_count": 30
        }
      ]
    },
    {
      "cell_type": "code",
      "source": [
        "np.cumsum(a)"
      ],
      "metadata": {
        "colab": {
          "base_uri": "https://localhost:8080/"
        },
        "id": "3SwqHX0zAO5E",
        "outputId": "d545f3d4-95a6-40b0-f4cd-0a4376d30562"
      },
      "execution_count": 31,
      "outputs": [
        {
          "output_type": "execute_result",
          "data": {
            "text/plain": [
              "array([ 94, 124, 206, 281, 295, 378, 429, 446, 458, 524, 550, 619, 713,\n",
              "       761, 834])"
            ]
          },
          "metadata": {},
          "execution_count": 31
        }
      ]
    },
    {
      "cell_type": "code",
      "source": [
        "b"
      ],
      "metadata": {
        "colab": {
          "base_uri": "https://localhost:8080/"
        },
        "id": "9Zkctk2FAQr-",
        "outputId": "fa5bceff-e02e-490a-bae9-ce43b220753f"
      },
      "execution_count": 32,
      "outputs": [
        {
          "output_type": "execute_result",
          "data": {
            "text/plain": [
              "array([[68, 73, 95, 89],\n",
              "       [ 1, 91, 87, 49],\n",
              "       [18, 16, 11, 11],\n",
              "       [98, 21, 15, 14],\n",
              "       [96,  8, 50,  3],\n",
              "       [17, 21, 66, 90]])"
            ]
          },
          "metadata": {},
          "execution_count": 32
        }
      ]
    },
    {
      "cell_type": "code",
      "source": [
        "np.cumsum(b)"
      ],
      "metadata": {
        "colab": {
          "base_uri": "https://localhost:8080/"
        },
        "id": "unytmSLNATI1",
        "outputId": "aac29244-bd9d-4d06-e4fd-12e9f82c5c82"
      },
      "execution_count": 33,
      "outputs": [
        {
          "output_type": "execute_result",
          "data": {
            "text/plain": [
              "array([  68,  141,  236,  325,  326,  417,  504,  553,  571,  587,  598,\n",
              "        609,  707,  728,  743,  757,  853,  861,  911,  914,  931,  952,\n",
              "       1018, 1108])"
            ]
          },
          "metadata": {},
          "execution_count": 33
        }
      ]
    },
    {
      "cell_type": "code",
      "source": [
        "np.cumsum(b, axis=0)"
      ],
      "metadata": {
        "colab": {
          "base_uri": "https://localhost:8080/"
        },
        "id": "fHVnoyE7AU7M",
        "outputId": "5ed55784-9aaf-4886-bf95-8cfb43d330a1"
      },
      "execution_count": 34,
      "outputs": [
        {
          "output_type": "execute_result",
          "data": {
            "text/plain": [
              "array([[ 68,  73,  95,  89],\n",
              "       [ 69, 164, 182, 138],\n",
              "       [ 87, 180, 193, 149],\n",
              "       [185, 201, 208, 163],\n",
              "       [281, 209, 258, 166],\n",
              "       [298, 230, 324, 256]])"
            ]
          },
          "metadata": {},
          "execution_count": 34
        }
      ]
    },
    {
      "cell_type": "code",
      "source": [
        "a"
      ],
      "metadata": {
        "colab": {
          "base_uri": "https://localhost:8080/"
        },
        "id": "72H6fRMUAXwF",
        "outputId": "fb101651-a3e3-497f-a3ef-22e8c1a58e2a"
      },
      "execution_count": 35,
      "outputs": [
        {
          "output_type": "execute_result",
          "data": {
            "text/plain": [
              "array([94, 30, 82, 75, 14, 83, 51, 17, 12, 66, 26, 69, 94, 48, 73])"
            ]
          },
          "metadata": {},
          "execution_count": 35
        }
      ]
    },
    {
      "cell_type": "code",
      "source": [
        "# np.cumprod\n",
        "np.cumprod(a)"
      ],
      "metadata": {
        "colab": {
          "base_uri": "https://localhost:8080/"
        },
        "id": "AZMlBtqPAnkn",
        "outputId": "1c4a5778-feae-4aa2-a7ed-808f30fdddb1"
      },
      "execution_count": 36,
      "outputs": [
        {
          "output_type": "execute_result",
          "data": {
            "text/plain": [
              "array([                  94,                 2820,               231240,\n",
              "                   17343000,            242802000,          20152566000,\n",
              "              1027780866000,       17472274722000,      209667296664000,\n",
              "          13838041579824000,   359789081075424000,  6378702520494704384,\n",
              "       -9144517505912991232,  3785017485205659648,  -394884685630119936])"
            ]
          },
          "metadata": {},
          "execution_count": 36
        }
      ]
    },
    {
      "cell_type": "markdown",
      "source": [
        "# np.percentile\n",
        "numpy.percentile() function used to compute the nth percentile of the given data(arrary elements) along with specified axis."
      ],
      "metadata": {
        "id": "t6wdozrSAvE3"
      }
    },
    {
      "cell_type": "code",
      "source": [
        "a"
      ],
      "metadata": {
        "colab": {
          "base_uri": "https://localhost:8080/"
        },
        "id": "--tsKmcgAp2p",
        "outputId": "488f7f88-9a92-43b2-9b1a-ce2488b00f03"
      },
      "execution_count": 37,
      "outputs": [
        {
          "output_type": "execute_result",
          "data": {
            "text/plain": [
              "array([94, 30, 82, 75, 14, 83, 51, 17, 12, 66, 26, 69, 94, 48, 73])"
            ]
          },
          "metadata": {},
          "execution_count": 37
        }
      ]
    },
    {
      "cell_type": "code",
      "source": [
        "np.percentile(a, 100)"
      ],
      "metadata": {
        "colab": {
          "base_uri": "https://localhost:8080/"
        },
        "id": "MguAaT2VBLjM",
        "outputId": "3788d306-e064-4e2e-f3a9-27a83f24a675"
      },
      "execution_count": 38,
      "outputs": [
        {
          "output_type": "execute_result",
          "data": {
            "text/plain": [
              "94.0"
            ]
          },
          "metadata": {},
          "execution_count": 38
        }
      ]
    },
    {
      "cell_type": "code",
      "source": [
        "np.percentile(a, 0)"
      ],
      "metadata": {
        "colab": {
          "base_uri": "https://localhost:8080/"
        },
        "id": "tnwHepP9BX6-",
        "outputId": "a9d655f9-d7d0-480c-85bc-05f1f118dbeb"
      },
      "execution_count": 39,
      "outputs": [
        {
          "output_type": "execute_result",
          "data": {
            "text/plain": [
              "12.0"
            ]
          },
          "metadata": {},
          "execution_count": 39
        }
      ]
    },
    {
      "cell_type": "code",
      "source": [
        "np.percentile(a, 50)"
      ],
      "metadata": {
        "colab": {
          "base_uri": "https://localhost:8080/"
        },
        "id": "mK9vTEX9Babn",
        "outputId": "3856e907-efff-4ff3-84da-4c0f5fefcb3a"
      },
      "execution_count": 41,
      "outputs": [
        {
          "output_type": "execute_result",
          "data": {
            "text/plain": [
              "66.0"
            ]
          },
          "metadata": {},
          "execution_count": 41
        }
      ]
    },
    {
      "cell_type": "markdown",
      "source": [
        "# np.histogram\n",
        "numpy has a built-in numpy.histogram function which represents the frequency of data distribution in the graphical form"
      ],
      "metadata": {
        "id": "F5a5BLGmBscm"
      }
    },
    {
      "cell_type": "code",
      "source": [
        "a"
      ],
      "metadata": {
        "colab": {
          "base_uri": "https://localhost:8080/"
        },
        "id": "tOylnp2BBd-6",
        "outputId": "909134f5-b814-4023-cb00-cdfbbe72c012"
      },
      "execution_count": 42,
      "outputs": [
        {
          "output_type": "execute_result",
          "data": {
            "text/plain": [
              "array([94, 30, 82, 75, 14, 83, 51, 17, 12, 66, 26, 69, 94, 48, 73])"
            ]
          },
          "metadata": {},
          "execution_count": 42
        }
      ]
    },
    {
      "cell_type": "code",
      "source": [
        "np.histogram(a, bins=[10, 20, 30, 40, 50, 60, 70, 80, 90, 100])"
      ],
      "metadata": {
        "colab": {
          "base_uri": "https://localhost:8080/"
        },
        "id": "nARn7AmHCFtd",
        "outputId": "1ca6e4bc-888c-4ba2-dd46-f5d4bccbe134"
      },
      "execution_count": 44,
      "outputs": [
        {
          "output_type": "execute_result",
          "data": {
            "text/plain": [
              "(array([3, 1, 1, 1, 1, 2, 2, 2, 2]),\n",
              " array([ 10,  20,  30,  40,  50,  60,  70,  80,  90, 100]))"
            ]
          },
          "metadata": {},
          "execution_count": 44
        }
      ]
    },
    {
      "cell_type": "markdown",
      "source": [
        "# np.corrcoef\n",
        "Return Pearson product-moment correlation coefficients."
      ],
      "metadata": {
        "id": "hMyDzI29C3Ys"
      }
    },
    {
      "cell_type": "code",
      "source": [
        "salary = np.array([20000, 40000, 25000, 35000, 60000])\n",
        "experience = np.array([1, 3, 2, 4, 2])"
      ],
      "metadata": {
        "id": "O1ajZHgNCHML"
      },
      "execution_count": 45,
      "outputs": []
    },
    {
      "cell_type": "code",
      "source": [
        "np.corrcoef(salary, experience)"
      ],
      "metadata": {
        "colab": {
          "base_uri": "https://localhost:8080/"
        },
        "id": "tDN9K76aDaGN",
        "outputId": "ebc65556-494b-425b-9c76-256289a43fc8"
      },
      "execution_count": 46,
      "outputs": [
        {
          "output_type": "execute_result",
          "data": {
            "text/plain": [
              "array([[1.        , 0.25344572],\n",
              "       [0.25344572, 1.        ]])"
            ]
          },
          "metadata": {},
          "execution_count": 46
        }
      ]
    },
    {
      "cell_type": "markdown",
      "source": [
        "# np.isin\n",
        "With the help of numpy.isin() mehtod. we can see that one array having values are checked in a different numpy array having different elements with different sizes."
      ],
      "metadata": {
        "id": "dav1Aq7TDo8t"
      }
    },
    {
      "cell_type": "code",
      "source": [
        "# code\n",
        "a"
      ],
      "metadata": {
        "colab": {
          "base_uri": "https://localhost:8080/"
        },
        "id": "qjvNGrMFDcKg",
        "outputId": "9b48abf1-0597-4e69-9652-71247b10e2e3"
      },
      "execution_count": 47,
      "outputs": [
        {
          "output_type": "execute_result",
          "data": {
            "text/plain": [
              "array([94, 30, 82, 75, 14, 83, 51, 17, 12, 66, 26, 69, 94, 48, 73])"
            ]
          },
          "metadata": {},
          "execution_count": 47
        }
      ]
    },
    {
      "cell_type": "code",
      "source": [
        "items = [10, 20, 30, 40, 50, 60, 70, 80, 90, 100]\n",
        "a[np.isin(a, items)]"
      ],
      "metadata": {
        "colab": {
          "base_uri": "https://localhost:8080/"
        },
        "id": "raDNw1X0D6Us",
        "outputId": "ca1d74ea-a05c-4a0b-897a-f0e0f5cbc739"
      },
      "execution_count": 50,
      "outputs": [
        {
          "output_type": "execute_result",
          "data": {
            "text/plain": [
              "array([30])"
            ]
          },
          "metadata": {},
          "execution_count": 50
        }
      ]
    },
    {
      "cell_type": "markdown",
      "source": [
        "# np.flip\n",
        "The numpy.flip() function reverses the order of array elements along the specified axis, preserving the shape of the array."
      ],
      "metadata": {
        "id": "Wp8LLy9bEaEF"
      }
    },
    {
      "cell_type": "code",
      "source": [
        "# code\n",
        "a"
      ],
      "metadata": {
        "colab": {
          "base_uri": "https://localhost:8080/"
        },
        "id": "Rg_LCce_EIaw",
        "outputId": "86946b42-bf1b-40a8-ee98-4d3e2b607dc9"
      },
      "execution_count": 51,
      "outputs": [
        {
          "output_type": "execute_result",
          "data": {
            "text/plain": [
              "array([94, 30, 82, 75, 14, 83, 51, 17, 12, 66, 26, 69, 94, 48, 73])"
            ]
          },
          "metadata": {},
          "execution_count": 51
        }
      ]
    },
    {
      "cell_type": "code",
      "source": [
        "np.flip(a)"
      ],
      "metadata": {
        "colab": {
          "base_uri": "https://localhost:8080/"
        },
        "id": "2H8tc-mMElZM",
        "outputId": "61be9aa0-2e0f-4243-f4e1-462922dbc719"
      },
      "execution_count": 52,
      "outputs": [
        {
          "output_type": "execute_result",
          "data": {
            "text/plain": [
              "array([73, 48, 94, 69, 26, 66, 12, 17, 51, 83, 14, 75, 82, 30, 94])"
            ]
          },
          "metadata": {},
          "execution_count": 52
        }
      ]
    },
    {
      "cell_type": "markdown",
      "source": [
        "# np.put\n",
        "The numpy.put() function replaces specific elements of an array with given values of p_array. Array indexed works on flattened array."
      ],
      "metadata": {
        "id": "-xGIL00bEqkb"
      }
    },
    {
      "cell_type": "code",
      "source": [
        "# code\n",
        "a"
      ],
      "metadata": {
        "colab": {
          "base_uri": "https://localhost:8080/"
        },
        "id": "Y0lY_nj4Enao",
        "outputId": "84ff2aa3-1727-483a-afad-11d69669ad70"
      },
      "execution_count": 53,
      "outputs": [
        {
          "output_type": "execute_result",
          "data": {
            "text/plain": [
              "array([94, 30, 82, 75, 14, 83, 51, 17, 12, 66, 26, 69, 94, 48, 73])"
            ]
          },
          "metadata": {},
          "execution_count": 53
        }
      ]
    },
    {
      "cell_type": "code",
      "source": [
        "np.put(a, [1, 3], [110, 530])"
      ],
      "metadata": {
        "id": "uX5bFdlsGWaR"
      },
      "execution_count": 54,
      "outputs": []
    },
    {
      "cell_type": "markdown",
      "source": [
        "# np.delete\n",
        "The numpy.delete() function returns a new array with the deletion of sub-arrays along with the mentioned axis."
      ],
      "metadata": {
        "id": "cJZY-eguGrj5"
      }
    },
    {
      "cell_type": "code",
      "source": [
        "# code\n",
        "a"
      ],
      "metadata": {
        "colab": {
          "base_uri": "https://localhost:8080/"
        },
        "id": "m1sM4-1zGqWG",
        "outputId": "fdb29cc0-273b-4689-d678-a8a927b1deb5"
      },
      "execution_count": 55,
      "outputs": [
        {
          "output_type": "execute_result",
          "data": {
            "text/plain": [
              "array([ 94, 110,  82, 530,  14,  83,  51,  17,  12,  66,  26,  69,  94,\n",
              "        48,  73])"
            ]
          },
          "metadata": {},
          "execution_count": 55
        }
      ]
    },
    {
      "cell_type": "code",
      "source": [
        "np.delete(a, [0])"
      ],
      "metadata": {
        "colab": {
          "base_uri": "https://localhost:8080/"
        },
        "id": "f_g3cmhWG5Zg",
        "outputId": "5facd6ec-8d1d-4644-ea51-f03bec1992be"
      },
      "execution_count": 56,
      "outputs": [
        {
          "output_type": "execute_result",
          "data": {
            "text/plain": [
              "array([110,  82, 530,  14,  83,  51,  17,  12,  66,  26,  69,  94,  48,\n",
              "        73])"
            ]
          },
          "metadata": {},
          "execution_count": 56
        }
      ]
    },
    {
      "cell_type": "code",
      "source": [
        "np.delete(a, [1, 4, 7])"
      ],
      "metadata": {
        "colab": {
          "base_uri": "https://localhost:8080/"
        },
        "id": "CuWdPBU-G_2I",
        "outputId": "6d3059df-843b-4ade-e4ea-3710640ce951"
      },
      "execution_count": 57,
      "outputs": [
        {
          "output_type": "execute_result",
          "data": {
            "text/plain": [
              "array([ 94,  82, 530,  83,  51,  12,  66,  26,  69,  94,  48,  73])"
            ]
          },
          "metadata": {},
          "execution_count": 57
        }
      ]
    },
    {
      "cell_type": "markdown",
      "source": [
        "# Set functions\n",
        "* np.union 1D\n",
        "* np.intersect 1D\n",
        "* np.setdiff 1D\n",
        "* np.setxor 1D\n",
        "* np.in 1D\n"
      ],
      "metadata": {
        "id": "mibOw-hAHHXu"
      }
    },
    {
      "cell_type": "code",
      "source": [
        "m = np.array([1, 2,3 , 4, 5])\n",
        "n = np.array([3,4, 5, 6, 7])"
      ],
      "metadata": {
        "id": "hfr8p5zzHFGg"
      },
      "execution_count": 58,
      "outputs": []
    },
    {
      "cell_type": "code",
      "source": [
        "np.union1d(m, n)"
      ],
      "metadata": {
        "colab": {
          "base_uri": "https://localhost:8080/"
        },
        "id": "crzTnE-XHrXA",
        "outputId": "de927c3a-fcda-4e16-faee-5f035abc17ba"
      },
      "execution_count": 61,
      "outputs": [
        {
          "output_type": "execute_result",
          "data": {
            "text/plain": [
              "array([1, 2, 3, 4, 5, 6, 7])"
            ]
          },
          "metadata": {},
          "execution_count": 61
        }
      ]
    },
    {
      "cell_type": "code",
      "source": [
        "np.intersect1d(m,n)"
      ],
      "metadata": {
        "colab": {
          "base_uri": "https://localhost:8080/"
        },
        "id": "tyR9DJqFHtKG",
        "outputId": "27a7e33e-f978-4c02-b0ab-73074c4e40e3"
      },
      "execution_count": 62,
      "outputs": [
        {
          "output_type": "execute_result",
          "data": {
            "text/plain": [
              "array([3, 4, 5])"
            ]
          },
          "metadata": {},
          "execution_count": 62
        }
      ]
    },
    {
      "cell_type": "code",
      "source": [
        "np.setdiff1d(m, n)"
      ],
      "metadata": {
        "colab": {
          "base_uri": "https://localhost:8080/"
        },
        "id": "Vhgd1d_yH15-",
        "outputId": "4e7d1860-1a0c-42f9-edef-d7e52327b853"
      },
      "execution_count": 63,
      "outputs": [
        {
          "output_type": "execute_result",
          "data": {
            "text/plain": [
              "array([1, 2])"
            ]
          },
          "metadata": {},
          "execution_count": 63
        }
      ]
    },
    {
      "cell_type": "code",
      "source": [
        "np.setxor1d(m,n)"
      ],
      "metadata": {
        "colab": {
          "base_uri": "https://localhost:8080/"
        },
        "id": "un3_tyALH4rJ",
        "outputId": "881dd815-a692-4543-acd5-4486e0d6b8c4"
      },
      "execution_count": 64,
      "outputs": [
        {
          "output_type": "execute_result",
          "data": {
            "text/plain": [
              "array([1, 2, 6, 7])"
            ]
          },
          "metadata": {},
          "execution_count": 64
        }
      ]
    },
    {
      "cell_type": "code",
      "source": [
        "np.in1d(m,n)"
      ],
      "metadata": {
        "colab": {
          "base_uri": "https://localhost:8080/"
        },
        "id": "dyAYeSBjH7Bk",
        "outputId": "d31879d6-6656-4392-ef81-e3a5a5667a4f"
      },
      "execution_count": 65,
      "outputs": [
        {
          "output_type": "execute_result",
          "data": {
            "text/plain": [
              "array([False, False,  True,  True,  True])"
            ]
          },
          "metadata": {},
          "execution_count": 65
        }
      ]
    },
    {
      "cell_type": "markdown",
      "source": [
        "# np.clip\n",
        "numpy.clip() function is used to clip(limit) the values in an array.\n"
      ],
      "metadata": {
        "id": "aVktoBl0IDnI"
      }
    },
    {
      "cell_type": "code",
      "source": [
        "# code\n",
        "a"
      ],
      "metadata": {
        "colab": {
          "base_uri": "https://localhost:8080/"
        },
        "id": "L4nb3vtaH9c_",
        "outputId": "b31313bf-b530-4d8d-cc89-571db02bcd8d"
      },
      "execution_count": 66,
      "outputs": [
        {
          "output_type": "execute_result",
          "data": {
            "text/plain": [
              "array([ 94, 110,  82, 530,  14,  83,  51,  17,  12,  66,  26,  69,  94,\n",
              "        48,  73])"
            ]
          },
          "metadata": {},
          "execution_count": 66
        }
      ]
    },
    {
      "cell_type": "code",
      "source": [
        "np.clip(a, a_min=10, a_max=85)"
      ],
      "metadata": {
        "colab": {
          "base_uri": "https://localhost:8080/"
        },
        "id": "kRabtawYIPdh",
        "outputId": "2aa7338b-5651-4c0b-83a6-85ca05947cb7"
      },
      "execution_count": 68,
      "outputs": [
        {
          "output_type": "execute_result",
          "data": {
            "text/plain": [
              "array([85, 85, 82, 85, 14, 83, 51, 17, 12, 66, 26, 69, 85, 48, 73])"
            ]
          },
          "metadata": {},
          "execution_count": 68
        }
      ]
    },
    {
      "cell_type": "code",
      "source": [],
      "metadata": {
        "id": "NmJayxIkIVaq"
      },
      "execution_count": null,
      "outputs": []
    },
    {
      "cell_type": "code",
      "source": [],
      "metadata": {
        "id": "5Bd4wdvOzUKN"
      },
      "execution_count": null,
      "outputs": []
    }
  ]
}